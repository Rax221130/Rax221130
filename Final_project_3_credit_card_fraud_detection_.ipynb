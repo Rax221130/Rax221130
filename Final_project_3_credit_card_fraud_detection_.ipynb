{
  "nbformat": 4,
  "nbformat_minor": 0,
  "metadata": {
    "colab": {
      "name": "Final project 3 credit card fraud detection .ipynb",
      "provenance": [],
      "collapsed_sections": [],
      "include_colab_link": true
    },
    "kernelspec": {
      "name": "python3",
      "display_name": "Python 3"
    },
    "language_info": {
      "name": "python"
    }
  },
  "cells": [
    {
      "cell_type": "markdown",
      "metadata": {
        "id": "view-in-github",
        "colab_type": "text"
      },
      "source": [
        "<a href=\"https://colab.research.google.com/github/rakshithakv/projects/blob/main/Final_project_3_credit_card_fraud_detection_.ipynb\" target=\"_parent\"><img src=\"https://colab.research.google.com/assets/colab-badge.svg\" alt=\"Open In Colab\"/></a>"
      ]
    },
    {
      "cell_type": "markdown",
      "metadata": {
        "id": "f6OYYkoyuHN6"
      },
      "source": [
        "# **CREDIT CARD FRAUD DETECTION**"
      ]
    },
    {
      "cell_type": "markdown",
      "metadata": {
        "id": "2R8AS-w8qgZT"
      },
      "source": [
        "\n",
        "\n",
        "> Indented block![credit card.jpg](data:image/jpeg;base64,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)\n",
        "\n"
      ]
    },
    {
      "cell_type": "code",
      "metadata": {
        "id": "l5SYb5uM4F7i"
      },
      "source": [
        "import numpy as np\n",
        "import pandas as pd\n",
        "from sklearn.model_selection import train_test_split\n",
        "from sklearn.linear_model import LogisticRegression\n",
        "from sklearn.metrics import accuracy_score"
      ],
      "execution_count": null,
      "outputs": []
    },
    {
      "cell_type": "code",
      "metadata": {
        "colab": {
          "base_uri": "https://localhost:8080/"
        },
        "id": "c3rPJzATjMPl",
        "outputId": "9951a225-4816-4364-b151-7144d5062e87"
      },
      "source": [
        "from google.colab import drive\n",
        "drive.mount('/content/drive')"
      ],
      "execution_count": null,
      "outputs": [
        {
          "output_type": "stream",
          "name": "stdout",
          "text": [
            "Drive already mounted at /content/drive; to attempt to forcibly remount, call drive.mount(\"/content/drive\", force_remount=True).\n"
          ]
        }
      ]
    },
    {
      "cell_type": "code",
      "metadata": {
        "id": "QUs7PrS44bMJ"
      },
      "source": [
        "credit_card_data = pd.read_csv('/content/drive/MyDrive/tcrfinalprojects/creditcard.csv')"
      ],
      "execution_count": null,
      "outputs": []
    },
    {
      "cell_type": "code",
      "metadata": {
        "colab": {
          "base_uri": "https://localhost:8080/",
          "height": 222
        },
        "id": "o9Yik-hh4rk6",
        "outputId": "c343d88a-fcd3-4604-e300-a8eef338cad1"
      },
      "source": [
        "credit_card_data.head()"
      ],
      "execution_count": null,
      "outputs": [
        {
          "output_type": "execute_result",
          "data": {
            "text/html": [
              "<div>\n",
              "<style scoped>\n",
              "    .dataframe tbody tr th:only-of-type {\n",
              "        vertical-align: middle;\n",
              "    }\n",
              "\n",
              "    .dataframe tbody tr th {\n",
              "        vertical-align: top;\n",
              "    }\n",
              "\n",
              "    .dataframe thead th {\n",
              "        text-align: right;\n",
              "    }\n",
              "</style>\n",
              "<table border=\"1\" class=\"dataframe\">\n",
              "  <thead>\n",
              "    <tr style=\"text-align: right;\">\n",
              "      <th></th>\n",
              "      <th>Time</th>\n",
              "      <th>V1</th>\n",
              "      <th>V2</th>\n",
              "      <th>V3</th>\n",
              "      <th>V4</th>\n",
              "      <th>V5</th>\n",
              "      <th>V6</th>\n",
              "      <th>V7</th>\n",
              "      <th>V8</th>\n",
              "      <th>V9</th>\n",
              "      <th>V10</th>\n",
              "      <th>V11</th>\n",
              "      <th>V12</th>\n",
              "      <th>V13</th>\n",
              "      <th>V14</th>\n",
              "      <th>V15</th>\n",
              "      <th>V16</th>\n",
              "      <th>V17</th>\n",
              "      <th>V18</th>\n",
              "      <th>V19</th>\n",
              "      <th>V20</th>\n",
              "      <th>V21</th>\n",
              "      <th>V22</th>\n",
              "      <th>V23</th>\n",
              "      <th>V24</th>\n",
              "      <th>V25</th>\n",
              "      <th>V26</th>\n",
              "      <th>V27</th>\n",
              "      <th>V28</th>\n",
              "      <th>Amount</th>\n",
              "      <th>Class</th>\n",
              "    </tr>\n",
              "  </thead>\n",
              "  <tbody>\n",
              "    <tr>\n",
              "      <th>0</th>\n",
              "      <td>0.0</td>\n",
              "      <td>-1.359807</td>\n",
              "      <td>-0.072781</td>\n",
              "      <td>2.536347</td>\n",
              "      <td>1.378155</td>\n",
              "      <td>-0.338321</td>\n",
              "      <td>0.462388</td>\n",
              "      <td>0.239599</td>\n",
              "      <td>0.098698</td>\n",
              "      <td>0.363787</td>\n",
              "      <td>0.090794</td>\n",
              "      <td>-0.551600</td>\n",
              "      <td>-0.617801</td>\n",
              "      <td>-0.991390</td>\n",
              "      <td>-0.311169</td>\n",
              "      <td>1.468177</td>\n",
              "      <td>-0.470401</td>\n",
              "      <td>0.207971</td>\n",
              "      <td>0.025791</td>\n",
              "      <td>0.403993</td>\n",
              "      <td>0.251412</td>\n",
              "      <td>-0.018307</td>\n",
              "      <td>0.277838</td>\n",
              "      <td>-0.110474</td>\n",
              "      <td>0.066928</td>\n",
              "      <td>0.128539</td>\n",
              "      <td>-0.189115</td>\n",
              "      <td>0.133558</td>\n",
              "      <td>-0.021053</td>\n",
              "      <td>149.62</td>\n",
              "      <td>0</td>\n",
              "    </tr>\n",
              "    <tr>\n",
              "      <th>1</th>\n",
              "      <td>0.0</td>\n",
              "      <td>1.191857</td>\n",
              "      <td>0.266151</td>\n",
              "      <td>0.166480</td>\n",
              "      <td>0.448154</td>\n",
              "      <td>0.060018</td>\n",
              "      <td>-0.082361</td>\n",
              "      <td>-0.078803</td>\n",
              "      <td>0.085102</td>\n",
              "      <td>-0.255425</td>\n",
              "      <td>-0.166974</td>\n",
              "      <td>1.612727</td>\n",
              "      <td>1.065235</td>\n",
              "      <td>0.489095</td>\n",
              "      <td>-0.143772</td>\n",
              "      <td>0.635558</td>\n",
              "      <td>0.463917</td>\n",
              "      <td>-0.114805</td>\n",
              "      <td>-0.183361</td>\n",
              "      <td>-0.145783</td>\n",
              "      <td>-0.069083</td>\n",
              "      <td>-0.225775</td>\n",
              "      <td>-0.638672</td>\n",
              "      <td>0.101288</td>\n",
              "      <td>-0.339846</td>\n",
              "      <td>0.167170</td>\n",
              "      <td>0.125895</td>\n",
              "      <td>-0.008983</td>\n",
              "      <td>0.014724</td>\n",
              "      <td>2.69</td>\n",
              "      <td>0</td>\n",
              "    </tr>\n",
              "    <tr>\n",
              "      <th>2</th>\n",
              "      <td>1.0</td>\n",
              "      <td>-1.358354</td>\n",
              "      <td>-1.340163</td>\n",
              "      <td>1.773209</td>\n",
              "      <td>0.379780</td>\n",
              "      <td>-0.503198</td>\n",
              "      <td>1.800499</td>\n",
              "      <td>0.791461</td>\n",
              "      <td>0.247676</td>\n",
              "      <td>-1.514654</td>\n",
              "      <td>0.207643</td>\n",
              "      <td>0.624501</td>\n",
              "      <td>0.066084</td>\n",
              "      <td>0.717293</td>\n",
              "      <td>-0.165946</td>\n",
              "      <td>2.345865</td>\n",
              "      <td>-2.890083</td>\n",
              "      <td>1.109969</td>\n",
              "      <td>-0.121359</td>\n",
              "      <td>-2.261857</td>\n",
              "      <td>0.524980</td>\n",
              "      <td>0.247998</td>\n",
              "      <td>0.771679</td>\n",
              "      <td>0.909412</td>\n",
              "      <td>-0.689281</td>\n",
              "      <td>-0.327642</td>\n",
              "      <td>-0.139097</td>\n",
              "      <td>-0.055353</td>\n",
              "      <td>-0.059752</td>\n",
              "      <td>378.66</td>\n",
              "      <td>0</td>\n",
              "    </tr>\n",
              "    <tr>\n",
              "      <th>3</th>\n",
              "      <td>1.0</td>\n",
              "      <td>-0.966272</td>\n",
              "      <td>-0.185226</td>\n",
              "      <td>1.792993</td>\n",
              "      <td>-0.863291</td>\n",
              "      <td>-0.010309</td>\n",
              "      <td>1.247203</td>\n",
              "      <td>0.237609</td>\n",
              "      <td>0.377436</td>\n",
              "      <td>-1.387024</td>\n",
              "      <td>-0.054952</td>\n",
              "      <td>-0.226487</td>\n",
              "      <td>0.178228</td>\n",
              "      <td>0.507757</td>\n",
              "      <td>-0.287924</td>\n",
              "      <td>-0.631418</td>\n",
              "      <td>-1.059647</td>\n",
              "      <td>-0.684093</td>\n",
              "      <td>1.965775</td>\n",
              "      <td>-1.232622</td>\n",
              "      <td>-0.208038</td>\n",
              "      <td>-0.108300</td>\n",
              "      <td>0.005274</td>\n",
              "      <td>-0.190321</td>\n",
              "      <td>-1.175575</td>\n",
              "      <td>0.647376</td>\n",
              "      <td>-0.221929</td>\n",
              "      <td>0.062723</td>\n",
              "      <td>0.061458</td>\n",
              "      <td>123.50</td>\n",
              "      <td>0</td>\n",
              "    </tr>\n",
              "    <tr>\n",
              "      <th>4</th>\n",
              "      <td>2.0</td>\n",
              "      <td>-1.158233</td>\n",
              "      <td>0.877737</td>\n",
              "      <td>1.548718</td>\n",
              "      <td>0.403034</td>\n",
              "      <td>-0.407193</td>\n",
              "      <td>0.095921</td>\n",
              "      <td>0.592941</td>\n",
              "      <td>-0.270533</td>\n",
              "      <td>0.817739</td>\n",
              "      <td>0.753074</td>\n",
              "      <td>-0.822843</td>\n",
              "      <td>0.538196</td>\n",
              "      <td>1.345852</td>\n",
              "      <td>-1.119670</td>\n",
              "      <td>0.175121</td>\n",
              "      <td>-0.451449</td>\n",
              "      <td>-0.237033</td>\n",
              "      <td>-0.038195</td>\n",
              "      <td>0.803487</td>\n",
              "      <td>0.408542</td>\n",
              "      <td>-0.009431</td>\n",
              "      <td>0.798278</td>\n",
              "      <td>-0.137458</td>\n",
              "      <td>0.141267</td>\n",
              "      <td>-0.206010</td>\n",
              "      <td>0.502292</td>\n",
              "      <td>0.219422</td>\n",
              "      <td>0.215153</td>\n",
              "      <td>69.99</td>\n",
              "      <td>0</td>\n",
              "    </tr>\n",
              "  </tbody>\n",
              "</table>\n",
              "</div>"
            ],
            "text/plain": [
              "   Time        V1        V2        V3  ...       V27       V28  Amount  Class\n",
              "0   0.0 -1.359807 -0.072781  2.536347  ...  0.133558 -0.021053  149.62      0\n",
              "1   0.0  1.191857  0.266151  0.166480  ... -0.008983  0.014724    2.69      0\n",
              "2   1.0 -1.358354 -1.340163  1.773209  ... -0.055353 -0.059752  378.66      0\n",
              "3   1.0 -0.966272 -0.185226  1.792993  ...  0.062723  0.061458  123.50      0\n",
              "4   2.0 -1.158233  0.877737  1.548718  ...  0.219422  0.215153   69.99      0\n",
              "\n",
              "[5 rows x 31 columns]"
            ]
          },
          "metadata": {},
          "execution_count": 42
        }
      ]
    },
    {
      "cell_type": "code",
      "metadata": {
        "colab": {
          "base_uri": "https://localhost:8080/",
          "height": 222
        },
        "id": "4E7htBvP4uHU",
        "outputId": "e796948a-11c5-4c1d-b073-d9092fcca6f1"
      },
      "source": [
        "credit_card_data.tail()"
      ],
      "execution_count": null,
      "outputs": [
        {
          "output_type": "execute_result",
          "data": {
            "text/html": [
              "<div>\n",
              "<style scoped>\n",
              "    .dataframe tbody tr th:only-of-type {\n",
              "        vertical-align: middle;\n",
              "    }\n",
              "\n",
              "    .dataframe tbody tr th {\n",
              "        vertical-align: top;\n",
              "    }\n",
              "\n",
              "    .dataframe thead th {\n",
              "        text-align: right;\n",
              "    }\n",
              "</style>\n",
              "<table border=\"1\" class=\"dataframe\">\n",
              "  <thead>\n",
              "    <tr style=\"text-align: right;\">\n",
              "      <th></th>\n",
              "      <th>Time</th>\n",
              "      <th>V1</th>\n",
              "      <th>V2</th>\n",
              "      <th>V3</th>\n",
              "      <th>V4</th>\n",
              "      <th>V5</th>\n",
              "      <th>V6</th>\n",
              "      <th>V7</th>\n",
              "      <th>V8</th>\n",
              "      <th>V9</th>\n",
              "      <th>V10</th>\n",
              "      <th>V11</th>\n",
              "      <th>V12</th>\n",
              "      <th>V13</th>\n",
              "      <th>V14</th>\n",
              "      <th>V15</th>\n",
              "      <th>V16</th>\n",
              "      <th>V17</th>\n",
              "      <th>V18</th>\n",
              "      <th>V19</th>\n",
              "      <th>V20</th>\n",
              "      <th>V21</th>\n",
              "      <th>V22</th>\n",
              "      <th>V23</th>\n",
              "      <th>V24</th>\n",
              "      <th>V25</th>\n",
              "      <th>V26</th>\n",
              "      <th>V27</th>\n",
              "      <th>V28</th>\n",
              "      <th>Amount</th>\n",
              "      <th>Class</th>\n",
              "    </tr>\n",
              "  </thead>\n",
              "  <tbody>\n",
              "    <tr>\n",
              "      <th>284802</th>\n",
              "      <td>172786.0</td>\n",
              "      <td>-11.881118</td>\n",
              "      <td>10.071785</td>\n",
              "      <td>-9.834783</td>\n",
              "      <td>-2.066656</td>\n",
              "      <td>-5.364473</td>\n",
              "      <td>-2.606837</td>\n",
              "      <td>-4.918215</td>\n",
              "      <td>7.305334</td>\n",
              "      <td>1.914428</td>\n",
              "      <td>4.356170</td>\n",
              "      <td>-1.593105</td>\n",
              "      <td>2.711941</td>\n",
              "      <td>-0.689256</td>\n",
              "      <td>4.626942</td>\n",
              "      <td>-0.924459</td>\n",
              "      <td>1.107641</td>\n",
              "      <td>1.991691</td>\n",
              "      <td>0.510632</td>\n",
              "      <td>-0.682920</td>\n",
              "      <td>1.475829</td>\n",
              "      <td>0.213454</td>\n",
              "      <td>0.111864</td>\n",
              "      <td>1.014480</td>\n",
              "      <td>-0.509348</td>\n",
              "      <td>1.436807</td>\n",
              "      <td>0.250034</td>\n",
              "      <td>0.943651</td>\n",
              "      <td>0.823731</td>\n",
              "      <td>0.77</td>\n",
              "      <td>0</td>\n",
              "    </tr>\n",
              "    <tr>\n",
              "      <th>284803</th>\n",
              "      <td>172787.0</td>\n",
              "      <td>-0.732789</td>\n",
              "      <td>-0.055080</td>\n",
              "      <td>2.035030</td>\n",
              "      <td>-0.738589</td>\n",
              "      <td>0.868229</td>\n",
              "      <td>1.058415</td>\n",
              "      <td>0.024330</td>\n",
              "      <td>0.294869</td>\n",
              "      <td>0.584800</td>\n",
              "      <td>-0.975926</td>\n",
              "      <td>-0.150189</td>\n",
              "      <td>0.915802</td>\n",
              "      <td>1.214756</td>\n",
              "      <td>-0.675143</td>\n",
              "      <td>1.164931</td>\n",
              "      <td>-0.711757</td>\n",
              "      <td>-0.025693</td>\n",
              "      <td>-1.221179</td>\n",
              "      <td>-1.545556</td>\n",
              "      <td>0.059616</td>\n",
              "      <td>0.214205</td>\n",
              "      <td>0.924384</td>\n",
              "      <td>0.012463</td>\n",
              "      <td>-1.016226</td>\n",
              "      <td>-0.606624</td>\n",
              "      <td>-0.395255</td>\n",
              "      <td>0.068472</td>\n",
              "      <td>-0.053527</td>\n",
              "      <td>24.79</td>\n",
              "      <td>0</td>\n",
              "    </tr>\n",
              "    <tr>\n",
              "      <th>284804</th>\n",
              "      <td>172788.0</td>\n",
              "      <td>1.919565</td>\n",
              "      <td>-0.301254</td>\n",
              "      <td>-3.249640</td>\n",
              "      <td>-0.557828</td>\n",
              "      <td>2.630515</td>\n",
              "      <td>3.031260</td>\n",
              "      <td>-0.296827</td>\n",
              "      <td>0.708417</td>\n",
              "      <td>0.432454</td>\n",
              "      <td>-0.484782</td>\n",
              "      <td>0.411614</td>\n",
              "      <td>0.063119</td>\n",
              "      <td>-0.183699</td>\n",
              "      <td>-0.510602</td>\n",
              "      <td>1.329284</td>\n",
              "      <td>0.140716</td>\n",
              "      <td>0.313502</td>\n",
              "      <td>0.395652</td>\n",
              "      <td>-0.577252</td>\n",
              "      <td>0.001396</td>\n",
              "      <td>0.232045</td>\n",
              "      <td>0.578229</td>\n",
              "      <td>-0.037501</td>\n",
              "      <td>0.640134</td>\n",
              "      <td>0.265745</td>\n",
              "      <td>-0.087371</td>\n",
              "      <td>0.004455</td>\n",
              "      <td>-0.026561</td>\n",
              "      <td>67.88</td>\n",
              "      <td>0</td>\n",
              "    </tr>\n",
              "    <tr>\n",
              "      <th>284805</th>\n",
              "      <td>172788.0</td>\n",
              "      <td>-0.240440</td>\n",
              "      <td>0.530483</td>\n",
              "      <td>0.702510</td>\n",
              "      <td>0.689799</td>\n",
              "      <td>-0.377961</td>\n",
              "      <td>0.623708</td>\n",
              "      <td>-0.686180</td>\n",
              "      <td>0.679145</td>\n",
              "      <td>0.392087</td>\n",
              "      <td>-0.399126</td>\n",
              "      <td>-1.933849</td>\n",
              "      <td>-0.962886</td>\n",
              "      <td>-1.042082</td>\n",
              "      <td>0.449624</td>\n",
              "      <td>1.962563</td>\n",
              "      <td>-0.608577</td>\n",
              "      <td>0.509928</td>\n",
              "      <td>1.113981</td>\n",
              "      <td>2.897849</td>\n",
              "      <td>0.127434</td>\n",
              "      <td>0.265245</td>\n",
              "      <td>0.800049</td>\n",
              "      <td>-0.163298</td>\n",
              "      <td>0.123205</td>\n",
              "      <td>-0.569159</td>\n",
              "      <td>0.546668</td>\n",
              "      <td>0.108821</td>\n",
              "      <td>0.104533</td>\n",
              "      <td>10.00</td>\n",
              "      <td>0</td>\n",
              "    </tr>\n",
              "    <tr>\n",
              "      <th>284806</th>\n",
              "      <td>172792.0</td>\n",
              "      <td>-0.533413</td>\n",
              "      <td>-0.189733</td>\n",
              "      <td>0.703337</td>\n",
              "      <td>-0.506271</td>\n",
              "      <td>-0.012546</td>\n",
              "      <td>-0.649617</td>\n",
              "      <td>1.577006</td>\n",
              "      <td>-0.414650</td>\n",
              "      <td>0.486180</td>\n",
              "      <td>-0.915427</td>\n",
              "      <td>-1.040458</td>\n",
              "      <td>-0.031513</td>\n",
              "      <td>-0.188093</td>\n",
              "      <td>-0.084316</td>\n",
              "      <td>0.041333</td>\n",
              "      <td>-0.302620</td>\n",
              "      <td>-0.660377</td>\n",
              "      <td>0.167430</td>\n",
              "      <td>-0.256117</td>\n",
              "      <td>0.382948</td>\n",
              "      <td>0.261057</td>\n",
              "      <td>0.643078</td>\n",
              "      <td>0.376777</td>\n",
              "      <td>0.008797</td>\n",
              "      <td>-0.473649</td>\n",
              "      <td>-0.818267</td>\n",
              "      <td>-0.002415</td>\n",
              "      <td>0.013649</td>\n",
              "      <td>217.00</td>\n",
              "      <td>0</td>\n",
              "    </tr>\n",
              "  </tbody>\n",
              "</table>\n",
              "</div>"
            ],
            "text/plain": [
              "            Time         V1         V2  ...       V28  Amount  Class\n",
              "284802  172786.0 -11.881118  10.071785  ...  0.823731    0.77      0\n",
              "284803  172787.0  -0.732789  -0.055080  ... -0.053527   24.79      0\n",
              "284804  172788.0   1.919565  -0.301254  ... -0.026561   67.88      0\n",
              "284805  172788.0  -0.240440   0.530483  ...  0.104533   10.00      0\n",
              "284806  172792.0  -0.533413  -0.189733  ...  0.013649  217.00      0\n",
              "\n",
              "[5 rows x 31 columns]"
            ]
          },
          "metadata": {},
          "execution_count": 43
        }
      ]
    },
    {
      "cell_type": "code",
      "metadata": {
        "colab": {
          "base_uri": "https://localhost:8080/"
        },
        "id": "p4rIqZMN4x0C",
        "outputId": "c29ee82c-febc-49b3-dee4-3454fb7caa2f"
      },
      "source": [
        "credit_card_data.info()"
      ],
      "execution_count": null,
      "outputs": [
        {
          "output_type": "stream",
          "name": "stdout",
          "text": [
            "<class 'pandas.core.frame.DataFrame'>\n",
            "RangeIndex: 284807 entries, 0 to 284806\n",
            "Data columns (total 31 columns):\n",
            " #   Column  Non-Null Count   Dtype  \n",
            "---  ------  --------------   -----  \n",
            " 0   Time    284807 non-null  float64\n",
            " 1   V1      284807 non-null  float64\n",
            " 2   V2      284807 non-null  float64\n",
            " 3   V3      284807 non-null  float64\n",
            " 4   V4      284807 non-null  float64\n",
            " 5   V5      284807 non-null  float64\n",
            " 6   V6      284807 non-null  float64\n",
            " 7   V7      284807 non-null  float64\n",
            " 8   V8      284807 non-null  float64\n",
            " 9   V9      284807 non-null  float64\n",
            " 10  V10     284807 non-null  float64\n",
            " 11  V11     284807 non-null  float64\n",
            " 12  V12     284807 non-null  float64\n",
            " 13  V13     284807 non-null  float64\n",
            " 14  V14     284807 non-null  float64\n",
            " 15  V15     284807 non-null  float64\n",
            " 16  V16     284807 non-null  float64\n",
            " 17  V17     284807 non-null  float64\n",
            " 18  V18     284807 non-null  float64\n",
            " 19  V19     284807 non-null  float64\n",
            " 20  V20     284807 non-null  float64\n",
            " 21  V21     284807 non-null  float64\n",
            " 22  V22     284807 non-null  float64\n",
            " 23  V23     284807 non-null  float64\n",
            " 24  V24     284807 non-null  float64\n",
            " 25  V25     284807 non-null  float64\n",
            " 26  V26     284807 non-null  float64\n",
            " 27  V27     284807 non-null  float64\n",
            " 28  V28     284807 non-null  float64\n",
            " 29  Amount  284807 non-null  float64\n",
            " 30  Class   284807 non-null  int64  \n",
            "dtypes: float64(30), int64(1)\n",
            "memory usage: 67.4 MB\n"
          ]
        }
      ]
    },
    {
      "cell_type": "code",
      "metadata": {
        "colab": {
          "base_uri": "https://localhost:8080/"
        },
        "id": "lAQBKMH041ys",
        "outputId": "97f26352-ffbd-41c9-b8d0-3ecc1f067b8e"
      },
      "source": [
        "credit_card_data.isnull().sum()"
      ],
      "execution_count": null,
      "outputs": [
        {
          "output_type": "execute_result",
          "data": {
            "text/plain": [
              "Time      0\n",
              "V1        0\n",
              "V2        0\n",
              "V3        0\n",
              "V4        0\n",
              "V5        0\n",
              "V6        0\n",
              "V7        0\n",
              "V8        0\n",
              "V9        0\n",
              "V10       0\n",
              "V11       0\n",
              "V12       0\n",
              "V13       0\n",
              "V14       0\n",
              "V15       0\n",
              "V16       0\n",
              "V17       0\n",
              "V18       0\n",
              "V19       0\n",
              "V20       0\n",
              "V21       0\n",
              "V22       0\n",
              "V23       0\n",
              "V24       0\n",
              "V25       0\n",
              "V26       0\n",
              "V27       0\n",
              "V28       0\n",
              "Amount    0\n",
              "Class     0\n",
              "dtype: int64"
            ]
          },
          "metadata": {},
          "execution_count": 45
        }
      ]
    },
    {
      "cell_type": "code",
      "metadata": {
        "colab": {
          "base_uri": "https://localhost:8080/"
        },
        "id": "Gas3MBCe48CM",
        "outputId": "d65ea282-dfd8-4c30-c876-db7c5dd6fd94"
      },
      "source": [
        "credit_card_data['Class'].value_counts()"
      ],
      "execution_count": null,
      "outputs": [
        {
          "output_type": "execute_result",
          "data": {
            "text/plain": [
              "0    284315\n",
              "1       492\n",
              "Name: Class, dtype: int64"
            ]
          },
          "metadata": {},
          "execution_count": 46
        }
      ]
    },
    {
      "cell_type": "code",
      "metadata": {
        "id": "HC7n0hj_5FWm"
      },
      "source": [
        "legit = credit_card_data[credit_card_data.Class == 0]\n",
        "fraud = credit_card_data[credit_card_data.Class == 1]"
      ],
      "execution_count": null,
      "outputs": []
    },
    {
      "cell_type": "code",
      "metadata": {
        "colab": {
          "base_uri": "https://localhost:8080/"
        },
        "id": "KIX_unAV5I55",
        "outputId": "98fd0b12-0aef-4d01-da80-4b8207c248d5"
      },
      "source": [
        "print(legit.shape)\n",
        "print(fraud.shape)"
      ],
      "execution_count": null,
      "outputs": [
        {
          "output_type": "stream",
          "name": "stdout",
          "text": [
            "(284315, 31)\n",
            "(492, 31)\n"
          ]
        }
      ]
    },
    {
      "cell_type": "code",
      "metadata": {
        "colab": {
          "base_uri": "https://localhost:8080/"
        },
        "id": "qPUbYHuL5MCY",
        "outputId": "6e4cff08-2407-4354-df01-6bf3186bfd0c"
      },
      "source": [
        "legit.Amount.describe()"
      ],
      "execution_count": null,
      "outputs": [
        {
          "output_type": "execute_result",
          "data": {
            "text/plain": [
              "count    284315.000000\n",
              "mean         88.291022\n",
              "std         250.105092\n",
              "min           0.000000\n",
              "25%           5.650000\n",
              "50%          22.000000\n",
              "75%          77.050000\n",
              "max       25691.160000\n",
              "Name: Amount, dtype: float64"
            ]
          },
          "metadata": {},
          "execution_count": 49
        }
      ]
    },
    {
      "cell_type": "code",
      "metadata": {
        "colab": {
          "base_uri": "https://localhost:8080/"
        },
        "id": "EUQFr2jM5O56",
        "outputId": "aabf0165-3450-4037-ce82-90ae09bb883a"
      },
      "source": [
        "fraud.Amount.describe()"
      ],
      "execution_count": null,
      "outputs": [
        {
          "output_type": "execute_result",
          "data": {
            "text/plain": [
              "count     492.000000\n",
              "mean      122.211321\n",
              "std       256.683288\n",
              "min         0.000000\n",
              "25%         1.000000\n",
              "50%         9.250000\n",
              "75%       105.890000\n",
              "max      2125.870000\n",
              "Name: Amount, dtype: float64"
            ]
          },
          "metadata": {},
          "execution_count": 50
        }
      ]
    },
    {
      "cell_type": "code",
      "metadata": {
        "colab": {
          "base_uri": "https://localhost:8080/",
          "height": 161
        },
        "id": "1TkFVtfB5Ryh",
        "outputId": "82b929f9-d85f-41f3-82dc-3f3d9692ad56"
      },
      "source": [
        "credit_card_data.groupby('Class').mean()"
      ],
      "execution_count": null,
      "outputs": [
        {
          "output_type": "execute_result",
          "data": {
            "text/html": [
              "<div>\n",
              "<style scoped>\n",
              "    .dataframe tbody tr th:only-of-type {\n",
              "        vertical-align: middle;\n",
              "    }\n",
              "\n",
              "    .dataframe tbody tr th {\n",
              "        vertical-align: top;\n",
              "    }\n",
              "\n",
              "    .dataframe thead th {\n",
              "        text-align: right;\n",
              "    }\n",
              "</style>\n",
              "<table border=\"1\" class=\"dataframe\">\n",
              "  <thead>\n",
              "    <tr style=\"text-align: right;\">\n",
              "      <th></th>\n",
              "      <th>Time</th>\n",
              "      <th>V1</th>\n",
              "      <th>V2</th>\n",
              "      <th>V3</th>\n",
              "      <th>V4</th>\n",
              "      <th>V5</th>\n",
              "      <th>V6</th>\n",
              "      <th>V7</th>\n",
              "      <th>V8</th>\n",
              "      <th>V9</th>\n",
              "      <th>V10</th>\n",
              "      <th>V11</th>\n",
              "      <th>V12</th>\n",
              "      <th>V13</th>\n",
              "      <th>V14</th>\n",
              "      <th>V15</th>\n",
              "      <th>V16</th>\n",
              "      <th>V17</th>\n",
              "      <th>V18</th>\n",
              "      <th>V19</th>\n",
              "      <th>V20</th>\n",
              "      <th>V21</th>\n",
              "      <th>V22</th>\n",
              "      <th>V23</th>\n",
              "      <th>V24</th>\n",
              "      <th>V25</th>\n",
              "      <th>V26</th>\n",
              "      <th>V27</th>\n",
              "      <th>V28</th>\n",
              "      <th>Amount</th>\n",
              "    </tr>\n",
              "    <tr>\n",
              "      <th>Class</th>\n",
              "      <th></th>\n",
              "      <th></th>\n",
              "      <th></th>\n",
              "      <th></th>\n",
              "      <th></th>\n",
              "      <th></th>\n",
              "      <th></th>\n",
              "      <th></th>\n",
              "      <th></th>\n",
              "      <th></th>\n",
              "      <th></th>\n",
              "      <th></th>\n",
              "      <th></th>\n",
              "      <th></th>\n",
              "      <th></th>\n",
              "      <th></th>\n",
              "      <th></th>\n",
              "      <th></th>\n",
              "      <th></th>\n",
              "      <th></th>\n",
              "      <th></th>\n",
              "      <th></th>\n",
              "      <th></th>\n",
              "      <th></th>\n",
              "      <th></th>\n",
              "      <th></th>\n",
              "      <th></th>\n",
              "      <th></th>\n",
              "      <th></th>\n",
              "      <th></th>\n",
              "    </tr>\n",
              "  </thead>\n",
              "  <tbody>\n",
              "    <tr>\n",
              "      <th>0</th>\n",
              "      <td>94838.202258</td>\n",
              "      <td>0.008258</td>\n",
              "      <td>-0.006271</td>\n",
              "      <td>0.012171</td>\n",
              "      <td>-0.007860</td>\n",
              "      <td>0.005453</td>\n",
              "      <td>0.002419</td>\n",
              "      <td>0.009637</td>\n",
              "      <td>-0.000987</td>\n",
              "      <td>0.004467</td>\n",
              "      <td>0.009824</td>\n",
              "      <td>-0.006576</td>\n",
              "      <td>0.010832</td>\n",
              "      <td>0.000189</td>\n",
              "      <td>0.012064</td>\n",
              "      <td>0.000161</td>\n",
              "      <td>0.007164</td>\n",
              "      <td>0.011535</td>\n",
              "      <td>0.003887</td>\n",
              "      <td>-0.001178</td>\n",
              "      <td>-0.000644</td>\n",
              "      <td>-0.001235</td>\n",
              "      <td>-0.000024</td>\n",
              "      <td>0.000070</td>\n",
              "      <td>0.000182</td>\n",
              "      <td>-0.000072</td>\n",
              "      <td>-0.000089</td>\n",
              "      <td>-0.000295</td>\n",
              "      <td>-0.000131</td>\n",
              "      <td>88.291022</td>\n",
              "    </tr>\n",
              "    <tr>\n",
              "      <th>1</th>\n",
              "      <td>80746.806911</td>\n",
              "      <td>-4.771948</td>\n",
              "      <td>3.623778</td>\n",
              "      <td>-7.033281</td>\n",
              "      <td>4.542029</td>\n",
              "      <td>-3.151225</td>\n",
              "      <td>-1.397737</td>\n",
              "      <td>-5.568731</td>\n",
              "      <td>0.570636</td>\n",
              "      <td>-2.581123</td>\n",
              "      <td>-5.676883</td>\n",
              "      <td>3.800173</td>\n",
              "      <td>-6.259393</td>\n",
              "      <td>-0.109334</td>\n",
              "      <td>-6.971723</td>\n",
              "      <td>-0.092929</td>\n",
              "      <td>-4.139946</td>\n",
              "      <td>-6.665836</td>\n",
              "      <td>-2.246308</td>\n",
              "      <td>0.680659</td>\n",
              "      <td>0.372319</td>\n",
              "      <td>0.713588</td>\n",
              "      <td>0.014049</td>\n",
              "      <td>-0.040308</td>\n",
              "      <td>-0.105130</td>\n",
              "      <td>0.041449</td>\n",
              "      <td>0.051648</td>\n",
              "      <td>0.170575</td>\n",
              "      <td>0.075667</td>\n",
              "      <td>122.211321</td>\n",
              "    </tr>\n",
              "  </tbody>\n",
              "</table>\n",
              "</div>"
            ],
            "text/plain": [
              "               Time        V1        V2  ...       V27       V28      Amount\n",
              "Class                                    ...                                \n",
              "0      94838.202258  0.008258 -0.006271  ... -0.000295 -0.000131   88.291022\n",
              "1      80746.806911 -4.771948  3.623778  ...  0.170575  0.075667  122.211321\n",
              "\n",
              "[2 rows x 30 columns]"
            ]
          },
          "metadata": {},
          "execution_count": 51
        }
      ]
    },
    {
      "cell_type": "code",
      "metadata": {
        "id": "InaGzDVK5Wmd"
      },
      "source": [
        "legit_sample = legit.sample(n=492)"
      ],
      "execution_count": null,
      "outputs": []
    },
    {
      "cell_type": "code",
      "metadata": {
        "id": "E8mysfmZ5a3s"
      },
      "source": [
        "new_dataset = pd.concat([legit_sample, fraud], axis=0)"
      ],
      "execution_count": null,
      "outputs": []
    },
    {
      "cell_type": "code",
      "metadata": {
        "colab": {
          "base_uri": "https://localhost:8080/",
          "height": 222
        },
        "id": "IhZJysQ15fsx",
        "outputId": "3150b6d6-e363-433b-a4fc-e07203fda673"
      },
      "source": [
        "new_dataset.head()"
      ],
      "execution_count": null,
      "outputs": [
        {
          "output_type": "execute_result",
          "data": {
            "text/html": [
              "<div>\n",
              "<style scoped>\n",
              "    .dataframe tbody tr th:only-of-type {\n",
              "        vertical-align: middle;\n",
              "    }\n",
              "\n",
              "    .dataframe tbody tr th {\n",
              "        vertical-align: top;\n",
              "    }\n",
              "\n",
              "    .dataframe thead th {\n",
              "        text-align: right;\n",
              "    }\n",
              "</style>\n",
              "<table border=\"1\" class=\"dataframe\">\n",
              "  <thead>\n",
              "    <tr style=\"text-align: right;\">\n",
              "      <th></th>\n",
              "      <th>Time</th>\n",
              "      <th>V1</th>\n",
              "      <th>V2</th>\n",
              "      <th>V3</th>\n",
              "      <th>V4</th>\n",
              "      <th>V5</th>\n",
              "      <th>V6</th>\n",
              "      <th>V7</th>\n",
              "      <th>V8</th>\n",
              "      <th>V9</th>\n",
              "      <th>V10</th>\n",
              "      <th>V11</th>\n",
              "      <th>V12</th>\n",
              "      <th>V13</th>\n",
              "      <th>V14</th>\n",
              "      <th>V15</th>\n",
              "      <th>V16</th>\n",
              "      <th>V17</th>\n",
              "      <th>V18</th>\n",
              "      <th>V19</th>\n",
              "      <th>V20</th>\n",
              "      <th>V21</th>\n",
              "      <th>V22</th>\n",
              "      <th>V23</th>\n",
              "      <th>V24</th>\n",
              "      <th>V25</th>\n",
              "      <th>V26</th>\n",
              "      <th>V27</th>\n",
              "      <th>V28</th>\n",
              "      <th>Amount</th>\n",
              "      <th>Class</th>\n",
              "    </tr>\n",
              "  </thead>\n",
              "  <tbody>\n",
              "    <tr>\n",
              "      <th>183870</th>\n",
              "      <td>125991.0</td>\n",
              "      <td>-1.601508</td>\n",
              "      <td>0.962722</td>\n",
              "      <td>1.748886</td>\n",
              "      <td>-0.870063</td>\n",
              "      <td>0.394256</td>\n",
              "      <td>-0.217856</td>\n",
              "      <td>1.195063</td>\n",
              "      <td>-0.674786</td>\n",
              "      <td>1.778890</td>\n",
              "      <td>1.773850</td>\n",
              "      <td>-0.228023</td>\n",
              "      <td>-0.450667</td>\n",
              "      <td>-0.525888</td>\n",
              "      <td>-1.329576</td>\n",
              "      <td>0.516511</td>\n",
              "      <td>-0.159890</td>\n",
              "      <td>-0.878400</td>\n",
              "      <td>-0.514950</td>\n",
              "      <td>-0.494131</td>\n",
              "      <td>0.767437</td>\n",
              "      <td>-0.608927</td>\n",
              "      <td>-0.401744</td>\n",
              "      <td>0.044863</td>\n",
              "      <td>1.042274</td>\n",
              "      <td>-0.206611</td>\n",
              "      <td>-0.113518</td>\n",
              "      <td>0.246644</td>\n",
              "      <td>-0.287177</td>\n",
              "      <td>29.99</td>\n",
              "      <td>0</td>\n",
              "    </tr>\n",
              "    <tr>\n",
              "      <th>113361</th>\n",
              "      <td>73036.0</td>\n",
              "      <td>0.843656</td>\n",
              "      <td>-1.443566</td>\n",
              "      <td>1.008413</td>\n",
              "      <td>-0.432275</td>\n",
              "      <td>-1.903889</td>\n",
              "      <td>-0.334674</td>\n",
              "      <td>-0.836777</td>\n",
              "      <td>0.033306</td>\n",
              "      <td>-0.709871</td>\n",
              "      <td>0.678895</td>\n",
              "      <td>1.377920</td>\n",
              "      <td>0.787662</td>\n",
              "      <td>0.694621</td>\n",
              "      <td>-0.085939</td>\n",
              "      <td>0.602508</td>\n",
              "      <td>-0.612729</td>\n",
              "      <td>-0.454213</td>\n",
              "      <td>1.789874</td>\n",
              "      <td>-0.885680</td>\n",
              "      <td>0.036800</td>\n",
              "      <td>-0.106521</td>\n",
              "      <td>-0.354131</td>\n",
              "      <td>-0.057277</td>\n",
              "      <td>0.575306</td>\n",
              "      <td>-0.193482</td>\n",
              "      <td>0.938525</td>\n",
              "      <td>-0.059425</td>\n",
              "      <td>0.056946</td>\n",
              "      <td>237.50</td>\n",
              "      <td>0</td>\n",
              "    </tr>\n",
              "    <tr>\n",
              "      <th>14171</th>\n",
              "      <td>25200.0</td>\n",
              "      <td>1.280944</td>\n",
              "      <td>0.163293</td>\n",
              "      <td>0.281865</td>\n",
              "      <td>0.516702</td>\n",
              "      <td>-0.307428</td>\n",
              "      <td>-0.722031</td>\n",
              "      <td>0.013342</td>\n",
              "      <td>-0.135800</td>\n",
              "      <td>0.184383</td>\n",
              "      <td>-0.047764</td>\n",
              "      <td>-0.780699</td>\n",
              "      <td>-0.167307</td>\n",
              "      <td>-0.296821</td>\n",
              "      <td>0.350447</td>\n",
              "      <td>1.146025</td>\n",
              "      <td>0.481867</td>\n",
              "      <td>-0.563851</td>\n",
              "      <td>-0.292418</td>\n",
              "      <td>0.071249</td>\n",
              "      <td>-0.107344</td>\n",
              "      <td>-0.293884</td>\n",
              "      <td>-0.897311</td>\n",
              "      <td>0.076962</td>\n",
              "      <td>-0.138735</td>\n",
              "      <td>0.257593</td>\n",
              "      <td>0.127069</td>\n",
              "      <td>-0.035648</td>\n",
              "      <td>0.013716</td>\n",
              "      <td>8.99</td>\n",
              "      <td>0</td>\n",
              "    </tr>\n",
              "    <tr>\n",
              "      <th>22651</th>\n",
              "      <td>32361.0</td>\n",
              "      <td>1.279067</td>\n",
              "      <td>0.574359</td>\n",
              "      <td>-0.465882</td>\n",
              "      <td>0.837862</td>\n",
              "      <td>0.022034</td>\n",
              "      <td>-1.421066</td>\n",
              "      <td>0.371794</td>\n",
              "      <td>-0.297144</td>\n",
              "      <td>-0.104430</td>\n",
              "      <td>-0.586455</td>\n",
              "      <td>0.051605</td>\n",
              "      <td>-0.269156</td>\n",
              "      <td>-0.412322</td>\n",
              "      <td>-0.943264</td>\n",
              "      <td>0.976291</td>\n",
              "      <td>0.474756</td>\n",
              "      <td>0.836059</td>\n",
              "      <td>0.182314</td>\n",
              "      <td>-0.321630</td>\n",
              "      <td>-0.100433</td>\n",
              "      <td>-0.142172</td>\n",
              "      <td>-0.371177</td>\n",
              "      <td>-0.074691</td>\n",
              "      <td>0.288823</td>\n",
              "      <td>0.558996</td>\n",
              "      <td>0.369874</td>\n",
              "      <td>-0.036340</td>\n",
              "      <td>0.035879</td>\n",
              "      <td>0.76</td>\n",
              "      <td>0</td>\n",
              "    </tr>\n",
              "    <tr>\n",
              "      <th>9699</th>\n",
              "      <td>14465.0</td>\n",
              "      <td>1.059685</td>\n",
              "      <td>-0.288001</td>\n",
              "      <td>0.795412</td>\n",
              "      <td>0.142986</td>\n",
              "      <td>-0.494601</td>\n",
              "      <td>0.419217</td>\n",
              "      <td>-0.702814</td>\n",
              "      <td>0.252732</td>\n",
              "      <td>1.568327</td>\n",
              "      <td>-0.433510</td>\n",
              "      <td>2.678034</td>\n",
              "      <td>-1.863552</td>\n",
              "      <td>0.989963</td>\n",
              "      <td>1.870992</td>\n",
              "      <td>0.463488</td>\n",
              "      <td>0.127880</td>\n",
              "      <td>0.646864</td>\n",
              "      <td>-0.166731</td>\n",
              "      <td>-0.843041</td>\n",
              "      <td>-0.119028</td>\n",
              "      <td>0.051119</td>\n",
              "      <td>0.343067</td>\n",
              "      <td>0.015026</td>\n",
              "      <td>-0.287131</td>\n",
              "      <td>-0.004643</td>\n",
              "      <td>1.072296</td>\n",
              "      <td>-0.069918</td>\n",
              "      <td>-0.007586</td>\n",
              "      <td>44.85</td>\n",
              "      <td>0</td>\n",
              "    </tr>\n",
              "  </tbody>\n",
              "</table>\n",
              "</div>"
            ],
            "text/plain": [
              "            Time        V1        V2  ...       V28  Amount  Class\n",
              "183870  125991.0 -1.601508  0.962722  ... -0.287177   29.99      0\n",
              "113361   73036.0  0.843656 -1.443566  ...  0.056946  237.50      0\n",
              "14171    25200.0  1.280944  0.163293  ...  0.013716    8.99      0\n",
              "22651    32361.0  1.279067  0.574359  ...  0.035879    0.76      0\n",
              "9699     14465.0  1.059685 -0.288001  ... -0.007586   44.85      0\n",
              "\n",
              "[5 rows x 31 columns]"
            ]
          },
          "metadata": {},
          "execution_count": 54
        }
      ]
    },
    {
      "cell_type": "code",
      "metadata": {
        "colab": {
          "base_uri": "https://localhost:8080/",
          "height": 222
        },
        "id": "ycFbV3E65iTA",
        "outputId": "7e8573a3-add3-4c4e-8a2b-a8cb6b9b2c75"
      },
      "source": [
        "new_dataset.tail()"
      ],
      "execution_count": null,
      "outputs": [
        {
          "output_type": "execute_result",
          "data": {
            "text/html": [
              "<div>\n",
              "<style scoped>\n",
              "    .dataframe tbody tr th:only-of-type {\n",
              "        vertical-align: middle;\n",
              "    }\n",
              "\n",
              "    .dataframe tbody tr th {\n",
              "        vertical-align: top;\n",
              "    }\n",
              "\n",
              "    .dataframe thead th {\n",
              "        text-align: right;\n",
              "    }\n",
              "</style>\n",
              "<table border=\"1\" class=\"dataframe\">\n",
              "  <thead>\n",
              "    <tr style=\"text-align: right;\">\n",
              "      <th></th>\n",
              "      <th>Time</th>\n",
              "      <th>V1</th>\n",
              "      <th>V2</th>\n",
              "      <th>V3</th>\n",
              "      <th>V4</th>\n",
              "      <th>V5</th>\n",
              "      <th>V6</th>\n",
              "      <th>V7</th>\n",
              "      <th>V8</th>\n",
              "      <th>V9</th>\n",
              "      <th>V10</th>\n",
              "      <th>V11</th>\n",
              "      <th>V12</th>\n",
              "      <th>V13</th>\n",
              "      <th>V14</th>\n",
              "      <th>V15</th>\n",
              "      <th>V16</th>\n",
              "      <th>V17</th>\n",
              "      <th>V18</th>\n",
              "      <th>V19</th>\n",
              "      <th>V20</th>\n",
              "      <th>V21</th>\n",
              "      <th>V22</th>\n",
              "      <th>V23</th>\n",
              "      <th>V24</th>\n",
              "      <th>V25</th>\n",
              "      <th>V26</th>\n",
              "      <th>V27</th>\n",
              "      <th>V28</th>\n",
              "      <th>Amount</th>\n",
              "      <th>Class</th>\n",
              "    </tr>\n",
              "  </thead>\n",
              "  <tbody>\n",
              "    <tr>\n",
              "      <th>279863</th>\n",
              "      <td>169142.0</td>\n",
              "      <td>-1.927883</td>\n",
              "      <td>1.125653</td>\n",
              "      <td>-4.518331</td>\n",
              "      <td>1.749293</td>\n",
              "      <td>-1.566487</td>\n",
              "      <td>-2.010494</td>\n",
              "      <td>-0.882850</td>\n",
              "      <td>0.697211</td>\n",
              "      <td>-2.064945</td>\n",
              "      <td>-5.587794</td>\n",
              "      <td>2.115795</td>\n",
              "      <td>-5.417424</td>\n",
              "      <td>-1.235123</td>\n",
              "      <td>-6.665177</td>\n",
              "      <td>0.401701</td>\n",
              "      <td>-2.897825</td>\n",
              "      <td>-4.570529</td>\n",
              "      <td>-1.315147</td>\n",
              "      <td>0.391167</td>\n",
              "      <td>1.252967</td>\n",
              "      <td>0.778584</td>\n",
              "      <td>-0.319189</td>\n",
              "      <td>0.639419</td>\n",
              "      <td>-0.294885</td>\n",
              "      <td>0.537503</td>\n",
              "      <td>0.788395</td>\n",
              "      <td>0.292680</td>\n",
              "      <td>0.147968</td>\n",
              "      <td>390.00</td>\n",
              "      <td>1</td>\n",
              "    </tr>\n",
              "    <tr>\n",
              "      <th>280143</th>\n",
              "      <td>169347.0</td>\n",
              "      <td>1.378559</td>\n",
              "      <td>1.289381</td>\n",
              "      <td>-5.004247</td>\n",
              "      <td>1.411850</td>\n",
              "      <td>0.442581</td>\n",
              "      <td>-1.326536</td>\n",
              "      <td>-1.413170</td>\n",
              "      <td>0.248525</td>\n",
              "      <td>-1.127396</td>\n",
              "      <td>-3.232153</td>\n",
              "      <td>2.858466</td>\n",
              "      <td>-3.096915</td>\n",
              "      <td>-0.792532</td>\n",
              "      <td>-5.210141</td>\n",
              "      <td>-0.613803</td>\n",
              "      <td>-2.155297</td>\n",
              "      <td>-3.267116</td>\n",
              "      <td>-0.688505</td>\n",
              "      <td>0.737657</td>\n",
              "      <td>0.226138</td>\n",
              "      <td>0.370612</td>\n",
              "      <td>0.028234</td>\n",
              "      <td>-0.145640</td>\n",
              "      <td>-0.081049</td>\n",
              "      <td>0.521875</td>\n",
              "      <td>0.739467</td>\n",
              "      <td>0.389152</td>\n",
              "      <td>0.186637</td>\n",
              "      <td>0.76</td>\n",
              "      <td>1</td>\n",
              "    </tr>\n",
              "    <tr>\n",
              "      <th>280149</th>\n",
              "      <td>169351.0</td>\n",
              "      <td>-0.676143</td>\n",
              "      <td>1.126366</td>\n",
              "      <td>-2.213700</td>\n",
              "      <td>0.468308</td>\n",
              "      <td>-1.120541</td>\n",
              "      <td>-0.003346</td>\n",
              "      <td>-2.234739</td>\n",
              "      <td>1.210158</td>\n",
              "      <td>-0.652250</td>\n",
              "      <td>-3.463891</td>\n",
              "      <td>1.794969</td>\n",
              "      <td>-2.775022</td>\n",
              "      <td>-0.418950</td>\n",
              "      <td>-4.057162</td>\n",
              "      <td>-0.712616</td>\n",
              "      <td>-1.603015</td>\n",
              "      <td>-5.035326</td>\n",
              "      <td>-0.507000</td>\n",
              "      <td>0.266272</td>\n",
              "      <td>0.247968</td>\n",
              "      <td>0.751826</td>\n",
              "      <td>0.834108</td>\n",
              "      <td>0.190944</td>\n",
              "      <td>0.032070</td>\n",
              "      <td>-0.739695</td>\n",
              "      <td>0.471111</td>\n",
              "      <td>0.385107</td>\n",
              "      <td>0.194361</td>\n",
              "      <td>77.89</td>\n",
              "      <td>1</td>\n",
              "    </tr>\n",
              "    <tr>\n",
              "      <th>281144</th>\n",
              "      <td>169966.0</td>\n",
              "      <td>-3.113832</td>\n",
              "      <td>0.585864</td>\n",
              "      <td>-5.399730</td>\n",
              "      <td>1.817092</td>\n",
              "      <td>-0.840618</td>\n",
              "      <td>-2.943548</td>\n",
              "      <td>-2.208002</td>\n",
              "      <td>1.058733</td>\n",
              "      <td>-1.632333</td>\n",
              "      <td>-5.245984</td>\n",
              "      <td>1.933520</td>\n",
              "      <td>-5.030465</td>\n",
              "      <td>-1.127455</td>\n",
              "      <td>-6.416628</td>\n",
              "      <td>0.141237</td>\n",
              "      <td>-2.549498</td>\n",
              "      <td>-4.614717</td>\n",
              "      <td>-1.478138</td>\n",
              "      <td>-0.035480</td>\n",
              "      <td>0.306271</td>\n",
              "      <td>0.583276</td>\n",
              "      <td>-0.269209</td>\n",
              "      <td>-0.456108</td>\n",
              "      <td>-0.183659</td>\n",
              "      <td>-0.328168</td>\n",
              "      <td>0.606116</td>\n",
              "      <td>0.884876</td>\n",
              "      <td>-0.253700</td>\n",
              "      <td>245.00</td>\n",
              "      <td>1</td>\n",
              "    </tr>\n",
              "    <tr>\n",
              "      <th>281674</th>\n",
              "      <td>170348.0</td>\n",
              "      <td>1.991976</td>\n",
              "      <td>0.158476</td>\n",
              "      <td>-2.583441</td>\n",
              "      <td>0.408670</td>\n",
              "      <td>1.151147</td>\n",
              "      <td>-0.096695</td>\n",
              "      <td>0.223050</td>\n",
              "      <td>-0.068384</td>\n",
              "      <td>0.577829</td>\n",
              "      <td>-0.888722</td>\n",
              "      <td>0.491140</td>\n",
              "      <td>0.728903</td>\n",
              "      <td>0.380428</td>\n",
              "      <td>-1.948883</td>\n",
              "      <td>-0.832498</td>\n",
              "      <td>0.519436</td>\n",
              "      <td>0.903562</td>\n",
              "      <td>1.197315</td>\n",
              "      <td>0.593509</td>\n",
              "      <td>-0.017652</td>\n",
              "      <td>-0.164350</td>\n",
              "      <td>-0.295135</td>\n",
              "      <td>-0.072173</td>\n",
              "      <td>-0.450261</td>\n",
              "      <td>0.313267</td>\n",
              "      <td>-0.289617</td>\n",
              "      <td>0.002988</td>\n",
              "      <td>-0.015309</td>\n",
              "      <td>42.53</td>\n",
              "      <td>1</td>\n",
              "    </tr>\n",
              "  </tbody>\n",
              "</table>\n",
              "</div>"
            ],
            "text/plain": [
              "            Time        V1        V2  ...       V28  Amount  Class\n",
              "279863  169142.0 -1.927883  1.125653  ...  0.147968  390.00      1\n",
              "280143  169347.0  1.378559  1.289381  ...  0.186637    0.76      1\n",
              "280149  169351.0 -0.676143  1.126366  ...  0.194361   77.89      1\n",
              "281144  169966.0 -3.113832  0.585864  ... -0.253700  245.00      1\n",
              "281674  170348.0  1.991976  0.158476  ... -0.015309   42.53      1\n",
              "\n",
              "[5 rows x 31 columns]"
            ]
          },
          "metadata": {},
          "execution_count": 55
        }
      ]
    },
    {
      "cell_type": "code",
      "metadata": {
        "colab": {
          "base_uri": "https://localhost:8080/"
        },
        "id": "qNRRk2v85m9P",
        "outputId": "cd70c285-7f99-4739-d9dd-a28ebf134b0d"
      },
      "source": [
        "new_dataset['Class'].value_counts()"
      ],
      "execution_count": null,
      "outputs": [
        {
          "output_type": "execute_result",
          "data": {
            "text/plain": [
              "1    492\n",
              "0    492\n",
              "Name: Class, dtype: int64"
            ]
          },
          "metadata": {},
          "execution_count": 56
        }
      ]
    },
    {
      "cell_type": "code",
      "metadata": {
        "colab": {
          "base_uri": "https://localhost:8080/",
          "height": 161
        },
        "id": "upvO5Rh65qbj",
        "outputId": "9dcd4f27-6f2b-4513-ee63-60d12bd5b6db"
      },
      "source": [
        "new_dataset.groupby('Class').mean()"
      ],
      "execution_count": null,
      "outputs": [
        {
          "output_type": "execute_result",
          "data": {
            "text/html": [
              "<div>\n",
              "<style scoped>\n",
              "    .dataframe tbody tr th:only-of-type {\n",
              "        vertical-align: middle;\n",
              "    }\n",
              "\n",
              "    .dataframe tbody tr th {\n",
              "        vertical-align: top;\n",
              "    }\n",
              "\n",
              "    .dataframe thead th {\n",
              "        text-align: right;\n",
              "    }\n",
              "</style>\n",
              "<table border=\"1\" class=\"dataframe\">\n",
              "  <thead>\n",
              "    <tr style=\"text-align: right;\">\n",
              "      <th></th>\n",
              "      <th>Time</th>\n",
              "      <th>V1</th>\n",
              "      <th>V2</th>\n",
              "      <th>V3</th>\n",
              "      <th>V4</th>\n",
              "      <th>V5</th>\n",
              "      <th>V6</th>\n",
              "      <th>V7</th>\n",
              "      <th>V8</th>\n",
              "      <th>V9</th>\n",
              "      <th>V10</th>\n",
              "      <th>V11</th>\n",
              "      <th>V12</th>\n",
              "      <th>V13</th>\n",
              "      <th>V14</th>\n",
              "      <th>V15</th>\n",
              "      <th>V16</th>\n",
              "      <th>V17</th>\n",
              "      <th>V18</th>\n",
              "      <th>V19</th>\n",
              "      <th>V20</th>\n",
              "      <th>V21</th>\n",
              "      <th>V22</th>\n",
              "      <th>V23</th>\n",
              "      <th>V24</th>\n",
              "      <th>V25</th>\n",
              "      <th>V26</th>\n",
              "      <th>V27</th>\n",
              "      <th>V28</th>\n",
              "      <th>Amount</th>\n",
              "    </tr>\n",
              "    <tr>\n",
              "      <th>Class</th>\n",
              "      <th></th>\n",
              "      <th></th>\n",
              "      <th></th>\n",
              "      <th></th>\n",
              "      <th></th>\n",
              "      <th></th>\n",
              "      <th></th>\n",
              "      <th></th>\n",
              "      <th></th>\n",
              "      <th></th>\n",
              "      <th></th>\n",
              "      <th></th>\n",
              "      <th></th>\n",
              "      <th></th>\n",
              "      <th></th>\n",
              "      <th></th>\n",
              "      <th></th>\n",
              "      <th></th>\n",
              "      <th></th>\n",
              "      <th></th>\n",
              "      <th></th>\n",
              "      <th></th>\n",
              "      <th></th>\n",
              "      <th></th>\n",
              "      <th></th>\n",
              "      <th></th>\n",
              "      <th></th>\n",
              "      <th></th>\n",
              "      <th></th>\n",
              "      <th></th>\n",
              "    </tr>\n",
              "  </thead>\n",
              "  <tbody>\n",
              "    <tr>\n",
              "      <th>0</th>\n",
              "      <td>96984.591463</td>\n",
              "      <td>0.028377</td>\n",
              "      <td>-0.015767</td>\n",
              "      <td>0.024835</td>\n",
              "      <td>-0.135441</td>\n",
              "      <td>0.052733</td>\n",
              "      <td>0.051702</td>\n",
              "      <td>0.002383</td>\n",
              "      <td>0.088789</td>\n",
              "      <td>-0.048185</td>\n",
              "      <td>-0.012520</td>\n",
              "      <td>0.030186</td>\n",
              "      <td>0.026808</td>\n",
              "      <td>0.008624</td>\n",
              "      <td>-0.019753</td>\n",
              "      <td>0.011055</td>\n",
              "      <td>0.020418</td>\n",
              "      <td>-0.001444</td>\n",
              "      <td>0.053345</td>\n",
              "      <td>-0.033537</td>\n",
              "      <td>-0.016982</td>\n",
              "      <td>0.017176</td>\n",
              "      <td>0.004359</td>\n",
              "      <td>0.036415</td>\n",
              "      <td>0.004792</td>\n",
              "      <td>-0.028949</td>\n",
              "      <td>-0.003641</td>\n",
              "      <td>-0.009842</td>\n",
              "      <td>-0.004552</td>\n",
              "      <td>79.674085</td>\n",
              "    </tr>\n",
              "    <tr>\n",
              "      <th>1</th>\n",
              "      <td>80746.806911</td>\n",
              "      <td>-4.771948</td>\n",
              "      <td>3.623778</td>\n",
              "      <td>-7.033281</td>\n",
              "      <td>4.542029</td>\n",
              "      <td>-3.151225</td>\n",
              "      <td>-1.397737</td>\n",
              "      <td>-5.568731</td>\n",
              "      <td>0.570636</td>\n",
              "      <td>-2.581123</td>\n",
              "      <td>-5.676883</td>\n",
              "      <td>3.800173</td>\n",
              "      <td>-6.259393</td>\n",
              "      <td>-0.109334</td>\n",
              "      <td>-6.971723</td>\n",
              "      <td>-0.092929</td>\n",
              "      <td>-4.139946</td>\n",
              "      <td>-6.665836</td>\n",
              "      <td>-2.246308</td>\n",
              "      <td>0.680659</td>\n",
              "      <td>0.372319</td>\n",
              "      <td>0.713588</td>\n",
              "      <td>0.014049</td>\n",
              "      <td>-0.040308</td>\n",
              "      <td>-0.105130</td>\n",
              "      <td>0.041449</td>\n",
              "      <td>0.051648</td>\n",
              "      <td>0.170575</td>\n",
              "      <td>0.075667</td>\n",
              "      <td>122.211321</td>\n",
              "    </tr>\n",
              "  </tbody>\n",
              "</table>\n",
              "</div>"
            ],
            "text/plain": [
              "               Time        V1        V2  ...       V27       V28      Amount\n",
              "Class                                    ...                                \n",
              "0      96984.591463  0.028377 -0.015767  ... -0.009842 -0.004552   79.674085\n",
              "1      80746.806911 -4.771948  3.623778  ...  0.170575  0.075667  122.211321\n",
              "\n",
              "[2 rows x 30 columns]"
            ]
          },
          "metadata": {},
          "execution_count": 57
        }
      ]
    },
    {
      "cell_type": "code",
      "metadata": {
        "id": "Tcde3XTI5tii"
      },
      "source": [
        "X = new_dataset.drop(columns='Class', axis=1)\n",
        "Y = new_dataset['Class']"
      ],
      "execution_count": null,
      "outputs": []
    },
    {
      "cell_type": "code",
      "metadata": {
        "colab": {
          "base_uri": "https://localhost:8080/"
        },
        "id": "bEw3jH6l5xEe",
        "outputId": "71c58514-9162-4ecb-9ffe-0c67bcbae449"
      },
      "source": [
        "print(X)"
      ],
      "execution_count": null,
      "outputs": [
        {
          "output_type": "stream",
          "name": "stdout",
          "text": [
            "            Time        V1        V2  ...       V27       V28  Amount\n",
            "183870  125991.0 -1.601508  0.962722  ...  0.246644 -0.287177   29.99\n",
            "113361   73036.0  0.843656 -1.443566  ... -0.059425  0.056946  237.50\n",
            "14171    25200.0  1.280944  0.163293  ... -0.035648  0.013716    8.99\n",
            "22651    32361.0  1.279067  0.574359  ... -0.036340  0.035879    0.76\n",
            "9699     14465.0  1.059685 -0.288001  ... -0.069918 -0.007586   44.85\n",
            "...          ...       ...       ...  ...       ...       ...     ...\n",
            "279863  169142.0 -1.927883  1.125653  ...  0.292680  0.147968  390.00\n",
            "280143  169347.0  1.378559  1.289381  ...  0.389152  0.186637    0.76\n",
            "280149  169351.0 -0.676143  1.126366  ...  0.385107  0.194361   77.89\n",
            "281144  169966.0 -3.113832  0.585864  ...  0.884876 -0.253700  245.00\n",
            "281674  170348.0  1.991976  0.158476  ...  0.002988 -0.015309   42.53\n",
            "\n",
            "[984 rows x 30 columns]\n"
          ]
        }
      ]
    },
    {
      "cell_type": "code",
      "metadata": {
        "colab": {
          "base_uri": "https://localhost:8080/"
        },
        "id": "PkFQA_Ti50Q-",
        "outputId": "0a1b922f-edfe-40d9-d36b-ecacd5bc7559"
      },
      "source": [
        "print(Y)"
      ],
      "execution_count": null,
      "outputs": [
        {
          "output_type": "stream",
          "name": "stdout",
          "text": [
            "183870    0\n",
            "113361    0\n",
            "14171     0\n",
            "22651     0\n",
            "9699      0\n",
            "         ..\n",
            "279863    1\n",
            "280143    1\n",
            "280149    1\n",
            "281144    1\n",
            "281674    1\n",
            "Name: Class, Length: 984, dtype: int64\n"
          ]
        }
      ]
    },
    {
      "cell_type": "code",
      "metadata": {
        "id": "zeGkN6Ez53i2"
      },
      "source": [
        "X_train, X_test, Y_train, Y_test = train_test_split(X, Y, test_size=0.2, stratify=Y, random_state=2)"
      ],
      "execution_count": null,
      "outputs": []
    },
    {
      "cell_type": "code",
      "metadata": {
        "colab": {
          "base_uri": "https://localhost:8080/"
        },
        "id": "y2a8RKmZ56tC",
        "outputId": "cc05d33f-6f72-40ba-b59b-7e20d3c5f9d9"
      },
      "source": [
        "print(X.shape, X_train.shape, X_test.shape)"
      ],
      "execution_count": null,
      "outputs": [
        {
          "output_type": "stream",
          "name": "stdout",
          "text": [
            "(984, 30) (787, 30) (197, 30)\n"
          ]
        }
      ]
    },
    {
      "cell_type": "code",
      "metadata": {
        "id": "eAYqJ1t_59u-"
      },
      "source": [
        "model = LogisticRegression()"
      ],
      "execution_count": null,
      "outputs": []
    },
    {
      "cell_type": "code",
      "metadata": {
        "colab": {
          "base_uri": "https://localhost:8080/"
        },
        "id": "MMWuw8Ar6Bza",
        "outputId": "aec0bd71-55dd-4701-f87a-b4e19033ca80"
      },
      "source": [
        "model.fit(X_train, Y_train)"
      ],
      "execution_count": null,
      "outputs": [
        {
          "output_type": "stream",
          "name": "stderr",
          "text": [
            "/usr/local/lib/python3.7/dist-packages/sklearn/linear_model/_logistic.py:940: ConvergenceWarning: lbfgs failed to converge (status=1):\n",
            "STOP: TOTAL NO. of ITERATIONS REACHED LIMIT.\n",
            "\n",
            "Increase the number of iterations (max_iter) or scale the data as shown in:\n",
            "    https://scikit-learn.org/stable/modules/preprocessing.html\n",
            "Please also refer to the documentation for alternative solver options:\n",
            "    https://scikit-learn.org/stable/modules/linear_model.html#logistic-regression\n",
            "  extra_warning_msg=_LOGISTIC_SOLVER_CONVERGENCE_MSG)\n"
          ]
        },
        {
          "output_type": "execute_result",
          "data": {
            "text/plain": [
              "LogisticRegression(C=1.0, class_weight=None, dual=False, fit_intercept=True,\n",
              "                   intercept_scaling=1, l1_ratio=None, max_iter=100,\n",
              "                   multi_class='auto', n_jobs=None, penalty='l2',\n",
              "                   random_state=None, solver='lbfgs', tol=0.0001, verbose=0,\n",
              "                   warm_start=False)"
            ]
          },
          "metadata": {},
          "execution_count": 64
        }
      ]
    },
    {
      "cell_type": "code",
      "metadata": {
        "id": "qyYCzqvR6Ein"
      },
      "source": [
        "X_train_prediction = model.predict(X_train)\n",
        "training_data_accuracy = accuracy_score(X_train_prediction, Y_train)"
      ],
      "execution_count": null,
      "outputs": []
    },
    {
      "cell_type": "code",
      "metadata": {
        "colab": {
          "base_uri": "https://localhost:8080/"
        },
        "id": "BS3VXIfE6HlW",
        "outputId": "96510917-73e3-4c87-f56d-5d3d7f492913"
      },
      "source": [
        "print('Accuracy on Training data : ', training_data_accuracy)"
      ],
      "execution_count": null,
      "outputs": [
        {
          "output_type": "stream",
          "name": "stdout",
          "text": [
            "Accuracy on Training data :  0.9504447268106735\n"
          ]
        }
      ]
    },
    {
      "cell_type": "code",
      "metadata": {
        "id": "2_d1KaOd6Kz4"
      },
      "source": [
        "X_test_prediction = model.predict(X_test)\n",
        "test_data_accuracy = accuracy_score(X_test_prediction, Y_test)"
      ],
      "execution_count": null,
      "outputs": []
    },
    {
      "cell_type": "code",
      "metadata": {
        "colab": {
          "base_uri": "https://localhost:8080/"
        },
        "id": "uhsgQpI56QTS",
        "outputId": "870bd251-c8f9-46c7-d330-baab5f6bd818"
      },
      "source": [
        "print('Accuracy score on Test Data : ', test_data_accuracy)"
      ],
      "execution_count": null,
      "outputs": [
        {
          "output_type": "stream",
          "name": "stdout",
          "text": [
            "Accuracy score on Test Data :  0.9289340101522843\n"
          ]
        }
      ]
    },
    {
      "cell_type": "code",
      "metadata": {
        "id": "gjkgOl4L6Y42"
      },
      "source": [
        ""
      ],
      "execution_count": null,
      "outputs": []
    }
  ]
}